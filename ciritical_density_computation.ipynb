{
 "metadata": {
  "language_info": {
   "codemirror_mode": {
    "name": "ipython",
    "version": 3
   },
   "file_extension": ".py",
   "mimetype": "text/x-python",
   "name": "python",
   "nbconvert_exporter": "python",
   "pygments_lexer": "ipython3",
   "version": "3.9.2"
  },
  "orig_nbformat": 2,
  "kernelspec": {
   "name": "python392jvsc74a57bd00e29b7aeee1c429c17bd556e350640a81440093c6cc9bd97a29b4e34ddc6c296",
   "display_name": "Python 3.9.2 64-bit"
  }
 },
 "nbformat": 4,
 "nbformat_minor": 2,
 "cells": [
  {
   "source": [
    "on calcule \n",
    "\n",
    "$$\n",
    "n_{H,u}^{crit}(T) = \\frac{\\sum_{l < u} A_{ul}}{\\sum_c f_c(T) \\left[ \\sum_{l < u} k_{ul, c}(T) \\right]}\n",
    "$$\n",
    "\n",
    "Quelques valeurs de $k_{ul, c}(T)$ sont données dans les fichiers du dossier data/Collisions. \n",
    "\n",
    "Pour $f_c(T)$ : \n",
    "\n",
    "* pour le gaz atomique, les valeurs de $f_c$ sont indépendantes de la température\n",
    "\n",
    "* pour le gaz moléculaire, on considère deux cas limites pour les rapports ortho to para pour H2 (aux basses températures, ce rapport est nul. Aux hautes températures, où le dihydrogène est thermalisé, le rapport vaut 3).\n",
    "\n"
   ],
   "cell_type": "markdown",
   "metadata": {}
  },
  {
   "cell_type": "code",
   "execution_count": 13,
   "metadata": {},
   "outputs": [
    {
     "output_type": "stream",
     "name": "stdout",
     "text": [
      "The autoreload extension is already loaded. To reload it, use:\n  %reload_ext autoreload\n"
     ]
    }
   ],
   "source": [
    "import pandas as pd\n",
    "import numpy as np\n",
    "import matplotlib.pyplot as plt\n",
    "import ipywidgets as widgets\n",
    "\n",
    "from utils import utils\n",
    "\n",
    "%load_ext autoreload\n",
    "%autoreload 2"
   ]
  },
  {
   "source": [
    "# Choose a chemical species"
   ],
   "cell_type": "markdown",
   "metadata": {}
  },
  {
   "cell_type": "code",
   "execution_count": 17,
   "metadata": {},
   "outputs": [],
   "source": [
    "# species = ['co', '12c16o']\n",
    "species = [\"cp\"]\n",
    "# species = [\"hcop\"]"
   ]
  },
  {
   "source": [
    "# Explore its critical densities"
   ],
   "cell_type": "markdown",
   "metadata": {}
  },
  {
   "cell_type": "code",
   "execution_count": 18,
   "metadata": {},
   "outputs": [
    {
     "output_type": "display_data",
     "data": {
      "text/plain": "interactive(children=(Select(description='nu', options=(2, 3, 4, 5), value=2), SelectMultiple(description='kin…",
      "application/vnd.jupyter.widget-view+json": {
       "version_major": 2,
       "version_minor": 0,
       "model_id": "1ad3ac1e587a49ba85bf942c479894d2"
      }
     },
     "metadata": {}
    }
   ],
   "source": [
    "# import data\n",
    "df_fc = pd.read_csv(\"./data/abundance_colliders.csv\", index_col=\"collider\")\n",
    "\n",
    "df_collisions = utils.read_collisions(species)\n",
    "df_collisions = utils.process_collisions(df_collisions)\n",
    "\n",
    "df_lines = utils.read_lines(species)\n",
    "\n",
    "# get list of possible values to explore\n",
    "nu_list = list(df_lines['nu'].unique())\n",
    "kind_list = list(df_fc.columns)\n",
    "\n",
    "# show result\n",
    "widgets.interact(\n",
    "    utils.plot_critical_density,\n",
    "    species=widgets.fixed(species),\n",
    "    nu=widgets.Select(options=nu_list, value=nu_list[0]),\n",
    "    kinds=widgets.SelectMultiple(options=kind_list, value=[kind_list[0]]),\n",
    "    df_fc=widgets.fixed(df_fc), \n",
    "    df_collisions=widgets.fixed(df_collisions), \n",
    "    df_lines=widgets.fixed(df_lines)\n",
    ");"
   ]
  },
  {
   "cell_type": "code",
   "execution_count": null,
   "metadata": {},
   "outputs": [],
   "source": []
  },
  {
   "cell_type": "code",
   "execution_count": null,
   "metadata": {},
   "outputs": [],
   "source": []
  }
 ]
}